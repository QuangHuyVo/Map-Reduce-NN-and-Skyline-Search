{
 "cells": [
  {
   "cell_type": "markdown",
   "id": "6c0f3942",
   "metadata": {},
   "source": [
    "## Task 1: Nearest Neighbor Search (refer to weeks 8 & 9 & 10 lecture notes)\n",
    "####  Datasets: There are three datasets: Restaurant, Shop, and Parking Datasets. Each dataset consists of 2D points, stored in a text file with the following format:\n",
    "- id_1 x_1 y_1\n",
    "- id_2 x_2 y_2\n",
    "- ...\n",
    "- id_n x_n y_n\n",
    "- Each line includes a unique ID for a point and its geographical coordinates, longitude and latitude. For example, an entry in the Shop dataset, such as “id_1=1, x_1=33.85, y_1=151.21” precisely indicates the location of a shop, with \"x\" representing longitude and \"y\" representing latitude.\n",
    "\n",
    "#### Queries: We have 200 users interested in finding the nearest facilities. Their locations are provided in a text file formatted identically to the datasets:\n",
    "- id_1 x_1 y_1\n",
    "- id_2 x_2 y_2\n",
    "- ...\n",
    "- id_200 x_200 y_200\n",
    "- For example, id_1=1, x_1=31.45, y_1=150.44 indicates a user’s location.\n",
    "\n",
    "\n",
    "## Program Design:\n",
    "#### Select ONE dataset (Restaurant, Shop, or Parking).\n",
    "#### Find the nearest facility (restaurant, shop, or parking lot) for each query using the following algorithms:\n",
    "1. Sequential Scan Based Method: Calculate the distance between a query point to every point in the selected dataset to find the nearest neighbor.\n",
    "2. Best First (BF) Algorithm: Construct an R-tree for the selected dataset. Then, apply the BF algorithm using the R-tree to find the nearest neighbor for each query point.\n",
    "3. BF with Divide-and-Conquer: Firstly, divide the dataset into two subspaces (based on X dimension or Y dimension), then construct an R-tree for each subspace. Use the BF algorithm to find the nearest point to the query in each subspace. Finally, compare the distance between the nearest points delivered from each subspace to determine the final nearest neighbor in the entire dataset.\n",
    "#### Output: For each algorithm (Sequential Scan Based, BF Algorithm, and BF with Divide-and-Conquer), display and output the following information in a single txt file:\n",
    "- The ID, x, and y coordinates of the nearest neighbor identified for each query point (e.g., “id=56, x=34.15, y=149.21 for query 1”).\n",
    "- The total running time for processing all 200 queries and the average time per query (i.e., divide the total running time by 200).\n"
   ]
  },
  {
   "cell_type": "markdown",
   "id": "27d0d6e1",
   "metadata": {},
   "source": [
    "##### Importing Important Libraries "
   ]
  },
  {
   "cell_type": "code",
   "execution_count": 23,
   "id": "923fea93",
   "metadata": {
    "scrolled": true
   },
   "outputs": [
    {
     "name": "stdout",
     "output_type": "stream",
     "text": [
      "Requirement already satisfied: rtree in c:\\users\\azmal\\anaconda3\\lib\\site-packages (1.0.1)\n",
      "Requirement already satisfied: utils in c:\\users\\azmal\\anaconda3\\lib\\site-packages (1.0.2)\n"
     ]
    }
   ],
   "source": [
    "# Install the Rtree module\n",
    "!pip install rtree\n",
    "!pip install utils\n",
    "import math\n",
    "import time\n",
    "import tqdm\n",
    "from R_tree import RTree\n",
    "from utils import load_data_points, load_queries, sequential_scan, split_x, find_space_id_for_point, query_with_r_tree_list\n"
   ]
  },
  {
   "cell_type": "markdown",
   "id": "70f2d8a2",
   "metadata": {},
   "source": [
    "## Sequential Scan Based Method: Calculate the distance between a query point to every point in the selected dataset to find the nearest neighbor."
   ]
  },
  {
   "cell_type": "markdown",
   "id": "072ed4ae",
   "metadata": {},
   "source": [
    "##### Function to Load Data points from the file  \n",
    "\n",
    "\n"
   ]
  },
  {
   "cell_type": "code",
   "execution_count": 2,
   "id": "4d96cb33",
   "metadata": {},
   "outputs": [
    {
     "name": "stdout",
     "output_type": "stream",
     "text": [
      "[(1, 64.26, 144.62), (2, 60.04, 137.31), (3, 74.48, 161.45), (4, 38.09, 147.05), (5, 83.01, 109.76), (6, 43.35, 145.62), (7, 58.22, 134.69), (8, 10.56, 145.15), (9, 45.81, 137.03), (10, 60.48, 84.52)]\n"
     ]
    }
   ],
   "source": [
    "\n",
    "def load_data_points(file_path):\n",
    "    points = []\n",
    "    with open(file_path, 'r') as file:\n",
    "        for line in file:\n",
    "            parts = line.split()\n",
    "            points.append((int(parts[0]), float(parts[1]), float(parts[2])))\n",
    "    return points\n",
    "\n",
    "# Load data points\n",
    "points_file = \"parking_dataset.txt\"\n",
    "points = load_data_points(points_file)\n",
    "\n",
    "print(points[:10])"
   ]
  },
  {
   "cell_type": "markdown",
   "id": "677d48e5",
   "metadata": {},
   "source": [
    "##### Function to load query points from a file\n"
   ]
  },
  {
   "cell_type": "code",
   "execution_count": 3,
   "id": "cc72d5db",
   "metadata": {},
   "outputs": [
    {
     "name": "stdout",
     "output_type": "stream",
     "text": [
      "[(1, 47.17, 128.78), (2, 51.79, 125.59), (3, 21.11, 106.0), (4, 5.86, 132.47), (5, 65.08, 94.73), (6, 89.42, 114.98), (7, 89.36, 95.27), (8, 3.77, 126.08), (9, 22.11, 97.09), (10, 47.62, 134.17)]\n"
     ]
    }
   ],
   "source": [
    "\n",
    "def load_queries(file_path):\n",
    "    queries = []\n",
    "    with open(file_path, 'r') as file:\n",
    "        for line in file:\n",
    "            parts = line.split()\n",
    "            queries.append((int(parts[0]), float(parts[1]), float(parts[2])))\n",
    "    return queries\n",
    "\n",
    "# Load queries\n",
    "queries_file = \"query_points.txt\"\n",
    "queries = load_queries(queries_file)\n",
    "print(queries[:10])"
   ]
  },
  {
   "cell_type": "markdown",
   "id": "48e44427",
   "metadata": {},
   "source": [
    "##### Euclidean distance between two points"
   ]
  },
  {
   "cell_type": "code",
   "execution_count": 4,
   "id": "89a2a529",
   "metadata": {},
   "outputs": [],
   "source": [
    "def calculate_distance(point1, point2):\n",
    "    return math.sqrt((point1[1] - point2[1])**2 + (point1[2] - point2[2])**2)"
   ]
  },
  {
   "cell_type": "markdown",
   "id": "8fe19dc6",
   "metadata": {},
   "source": [
    "##### Function to perform sequential scan and find the nearest neighbor"
   ]
  },
  {
   "cell_type": "code",
   "execution_count": 5,
   "id": "bae886e0",
   "metadata": {},
   "outputs": [],
   "source": [
    "\n",
    "def sequential_scan(points, query):\n",
    "    min_distance = float('inf')\n",
    "    nearest_neighbor = None\n",
    "    for point in points:\n",
    "        distance = calculate_distance(point, query)\n",
    "        if distance < min_distance:\n",
    "            min_distance = distance\n",
    "            nearest_neighbor = point\n",
    "    return nearest_neighbor, min_distance\n",
    "\n",
    "\n",
    " "
   ]
  },
  {
   "cell_type": "markdown",
   "id": "a73e11a6",
   "metadata": {},
   "source": [
    "##### Perform sequential scan and measure the time taken"
   ]
  },
  {
   "cell_type": "code",
   "execution_count": 6,
   "id": "9750cdc8",
   "metadata": {},
   "outputs": [
    {
     "name": "stdout",
     "output_type": "stream",
     "text": [
      "The sequential scan query processing time is 48.35466504096985 seconds.\n",
      "\n",
      "Top 10 nearest neighbors:\n",
      "Query ID: 1, Nearest Neighbor ID: 69898, Distance: 0.17\n",
      "Query ID: 2, Nearest Neighbor ID: 54172, Distance: 0.20\n",
      "Query ID: 3, Nearest Neighbor ID: 21954, Distance: 0.13\n",
      "Query ID: 4, Nearest Neighbor ID: 30416, Distance: 0.06\n",
      "Query ID: 5, Nearest Neighbor ID: 31782, Distance: 0.11\n",
      "Query ID: 6, Nearest Neighbor ID: 49790, Distance: 0.16\n",
      "Query ID: 7, Nearest Neighbor ID: 84103, Distance: 0.13\n",
      "Query ID: 8, Nearest Neighbor ID: 6099, Distance: 0.08\n",
      "Query ID: 9, Nearest Neighbor ID: 141443, Distance: 0.24\n",
      "Query ID: 10, Nearest Neighbor ID: 12083, Distance: 0.16\n"
     ]
    }
   ],
   "source": [
    "start_time = time.time()\n",
    "results = []\n",
    "for query in queries:\n",
    "        nearest_neighbor, distance = sequential_scan(points, query)\n",
    "        results.append((query[0], nearest_neighbor[0], distance))\n",
    "end_time = time.time()\n",
    "\n",
    "Query_processing_time = end_time - start_time\n",
    "\n",
    "print(\"The sequential scan query processing time is\", Query_processing_time, \"seconds.\\n\")\n",
    "\n",
    "print(\"Top 10 nearest neighbors:\")\n",
    "for result in results[:10]:\n",
    "    print(f'Query ID: {result[0]}, Nearest Neighbor ID: {result[1]}, Distance: {result[2]:.2f}')\n"
   ]
  },
  {
   "cell_type": "markdown",
   "id": "4f552f1b",
   "metadata": {},
   "source": [
    "##### Write results to a text file"
   ]
  },
  {
   "cell_type": "code",
   "execution_count": 7,
   "id": "f7cf91cd",
   "metadata": {},
   "outputs": [],
   "source": [
    "# Write results to a text file\n",
    "results_file = r'C:\\Users\\azmal\\OneDrive\\Documents\\JypterNotebookDirectory\\Sequentialscanresult.txt'\n",
    "with open(results_file, 'w') as file:\n",
    "    for result in results:\n",
    "        file.write(f'Query ID: {result[0]}, Nearest Neighbor ID: {result[1]}, Distance: {result[2]:.2f}\\n')\n",
    "    file.write(f'Total time for sequential scan: {end_time - start_time:.2f} seconds\\n')\n",
    "\n"
   ]
  },
  {
   "cell_type": "markdown",
   "id": "c339421e",
   "metadata": {},
   "source": [
    "## Best First (BF) Algorithm: Construct an R-tree for the selected dataset. Then, apply the BF algorithm using the R-tree to find the nearest neighbor for each query point."
   ]
  },
  {
   "cell_type": "markdown",
   "id": "81da060f",
   "metadata": {},
   "source": [
    "#### Buidling R Tree "
   ]
  },
  {
   "cell_type": "code",
   "execution_count": 32,
   "id": "5035e85f",
   "metadata": {},
   "outputs": [
    {
     "name": "stdout",
     "output_type": "stream",
     "text": [
      "Time taken to build the R-tree: 11.259647 seconds\n"
     ]
    }
   ],
   "source": [
    "\n",
    "import time\n",
    "from rtree import index\n",
    "\n",
    "# Load parking dataset\n",
    "point_file = \"parking_dataset.txt\"\n",
    "queries_file = \"query_points.txt\"\n",
    "\n",
    "def load_data(file_path):\n",
    "    data = []\n",
    "    with open(file_path, 'r') as f:\n",
    "        for line in f:\n",
    "            parts = line.strip().split()\n",
    "            data.append((int(parts[0]), float(parts[1]), float(parts[2])))\n",
    "    return data\n",
    "\n",
    "points = load_data(point_file)\n",
    "queries = load_data(queries_file)\n",
    "\n",
    "# Define properties for R-tree index\n",
    "p = index.Property()\n",
    "p.dimension = 2  # 2D R-tree\n",
    "idx = index.Index(properties=p)\n",
    "\n",
    "# Insert parking data into R-tree\n",
    "start_time = time.time()\n",
    "for entry in points:\n",
    "    idx.insert(entry[0], (entry[1], entry[2], entry[1], entry[2]))\n",
    "end_time = time.time()\n",
    "\n",
    "# Calculate the time taken to build the R-tree\n",
    "time_taken = end_time - start_time\n",
    "\n",
    "print(f\"Time taken to build the R-tree: {time_taken:.6f} seconds\")\n"
   ]
  },
  {
   "cell_type": "markdown",
   "id": "422b6437",
   "metadata": {},
   "source": [
    "#### Answering quries with BF Algorithm "
   ]
  },
  {
   "cell_type": "code",
   "execution_count": 40,
   "id": "29d606a3",
   "metadata": {},
   "outputs": [
    {
     "name": "stdout",
     "output_type": "stream",
     "text": [
      "Query Point ID: 1, Nearest Parking Point ID: 69898, Coordinates: (47.31, 128.88)\n",
      "Query Point ID: 2, Nearest Parking Point ID: 54172, Coordinates: (51.8, 125.79)\n",
      "Query Point ID: 3, Nearest Parking Point ID: 21954, Coordinates: (21.24, 106.03)\n",
      "Query Point ID: 4, Nearest Parking Point ID: 30416, Coordinates: (5.92, 132.46)\n",
      "Query Point ID: 5, Nearest Parking Point ID: 31782, Coordinates: (64.97, 94.72)\n",
      "Query Point ID: 6, Nearest Parking Point ID: 49790, Coordinates: (89.52, 115.1)\n",
      "Query Point ID: 7, Nearest Parking Point ID: 84103, Coordinates: (89.46, 95.19)\n",
      "Query Point ID: 8, Nearest Parking Point ID: 6099, Coordinates: (3.7, 126.05)\n",
      "Query Point ID: 9, Nearest Parking Point ID: 141443, Coordinates: (22.35, 97.1)\n",
      "Query Point ID: 10, Nearest Parking Point ID: 12083, Coordinates: (47.54, 134.03)\n",
      "Query Point ID: 11, Nearest Parking Point ID: 1351, Coordinates: (69.39, 126.4)\n",
      "Query Point ID: 12, Nearest Parking Point ID: 122773, Coordinates: (22.38, 141.89)\n",
      "Query Point ID: 13, Nearest Parking Point ID: 118704, Coordinates: (34.52, 93.67)\n",
      "Query Point ID: 14, Nearest Parking Point ID: 49199, Coordinates: (88.61, 138.29)\n",
      "Query Point ID: 15, Nearest Parking Point ID: 52515, Coordinates: (77.65, 86.08)\n",
      "Query Point ID: 16, Nearest Parking Point ID: 8582, Coordinates: (23.39, 144.88)\n",
      "Query Point ID: 17, Nearest Parking Point ID: 5678, Coordinates: (55.74, 102.81)\n",
      "Query Point ID: 18, Nearest Parking Point ID: 129379, Coordinates: (54.76, 120.24)\n",
      "Query Point ID: 19, Nearest Parking Point ID: 66442, Coordinates: (40.0, 138.05)\n",
      "Query Point ID: 20, Nearest Parking Point ID: 86614, Coordinates: (40.19, 124.1)\n",
      "Query Point ID: 21, Nearest Parking Point ID: 73465, Coordinates: (43.79, 97.9)\n",
      "Query Point ID: 22, Nearest Parking Point ID: 17934, Coordinates: (66.08, 102.85)\n",
      "Query Point ID: 23, Nearest Parking Point ID: 132857, Coordinates: (74.15, 107.67)\n",
      "Query Point ID: 24, Nearest Parking Point ID: 124829, Coordinates: (64.53, 132.96)\n",
      "Query Point ID: 25, Nearest Parking Point ID: 99685, Coordinates: (35.26, 159.31)\n",
      "Query Point ID: 26, Nearest Parking Point ID: 78942, Coordinates: (38.56, 85.56)\n",
      "Query Point ID: 27, Nearest Parking Point ID: 139526, Coordinates: (1.43, 88.79)\n",
      "Query Point ID: 28, Nearest Parking Point ID: 131582, Coordinates: (58.28, 98.6)\n",
      "Query Point ID: 29, Nearest Parking Point ID: 41510, Coordinates: (62.16, 124.59)\n",
      "Query Point ID: 30, Nearest Parking Point ID: 24332, Coordinates: (87.73, 94.97)\n",
      "Query Point ID: 31, Nearest Parking Point ID: 5843, Coordinates: (39.22, 99.0)\n",
      "Query Point ID: 32, Nearest Parking Point ID: 89356, Coordinates: (36.71, 101.06)\n",
      "Query Point ID: 33, Nearest Parking Point ID: 37580, Coordinates: (24.58, 147.85)\n",
      "Query Point ID: 34, Nearest Parking Point ID: 60568, Coordinates: (58.25, 126.86)\n",
      "Query Point ID: 35, Nearest Parking Point ID: 129969, Coordinates: (27.61, 158.8)\n",
      "Query Point ID: 36, Nearest Parking Point ID: 98263, Coordinates: (16.79, 153.29)\n",
      "Query Point ID: 37, Nearest Parking Point ID: 102852, Coordinates: (74.25, 142.66)\n",
      "Query Point ID: 38, Nearest Parking Point ID: 117256, Coordinates: (28.59, 110.83)\n",
      "Query Point ID: 39, Nearest Parking Point ID: 121623, Coordinates: (6.54, 121.53)\n",
      "Query Point ID: 40, Nearest Parking Point ID: 31225, Coordinates: (80.22, 94.77)\n",
      "Query Point ID: 41, Nearest Parking Point ID: 83187, Coordinates: (71.61, 88.05)\n",
      "Query Point ID: 42, Nearest Parking Point ID: 101155, Coordinates: (36.32, 158.75)\n",
      "Query Point ID: 43, Nearest Parking Point ID: 110381, Coordinates: (18.92, 104.03)\n",
      "Query Point ID: 44, Nearest Parking Point ID: 33209, Coordinates: (6.52, 116.3)\n",
      "Query Point ID: 45, Nearest Parking Point ID: 149011, Coordinates: (62.36, 119.54)\n",
      "Query Point ID: 46, Nearest Parking Point ID: 91448, Coordinates: (52.83, 158.08)\n",
      "Query Point ID: 47, Nearest Parking Point ID: 12265, Coordinates: (47.02, 158.15)\n",
      "Query Point ID: 48, Nearest Parking Point ID: 33448, Coordinates: (6.97, 136.25)\n",
      "Query Point ID: 49, Nearest Parking Point ID: 93787, Coordinates: (36.87, 119.32)\n",
      "Query Point ID: 50, Nearest Parking Point ID: 47875, Coordinates: (47.79, 140.26)\n",
      "Query Point ID: 51, Nearest Parking Point ID: 115148, Coordinates: (54.52, 87.87)\n",
      "Query Point ID: 52, Nearest Parking Point ID: 9289, Coordinates: (86.78, 88.36)\n",
      "Query Point ID: 53, Nearest Parking Point ID: 9091, Coordinates: (41.67, 146.2)\n",
      "Query Point ID: 54, Nearest Parking Point ID: 78764, Coordinates: (79.69, 139.01)\n",
      "Query Point ID: 55, Nearest Parking Point ID: 57848, Coordinates: (81.93, 156.54)\n",
      "Query Point ID: 56, Nearest Parking Point ID: 139247, Coordinates: (56.32, 127.58)\n",
      "Query Point ID: 57, Nearest Parking Point ID: 106645, Coordinates: (6.53, 142.49)\n",
      "Query Point ID: 58, Nearest Parking Point ID: 121417, Coordinates: (5.79, 144.78)\n",
      "Query Point ID: 59, Nearest Parking Point ID: 141910, Coordinates: (20.8, 146.75)\n",
      "Query Point ID: 60, Nearest Parking Point ID: 50324, Coordinates: (4.95, 91.31)\n",
      "Query Point ID: 61, Nearest Parking Point ID: 124665, Coordinates: (3.37, 111.26)\n",
      "Query Point ID: 62, Nearest Parking Point ID: 55883, Coordinates: (81.45, 87.68)\n",
      "Query Point ID: 63, Nearest Parking Point ID: 91617, Coordinates: (73.09, 142.88)\n",
      "Query Point ID: 64, Nearest Parking Point ID: 109261, Coordinates: (72.43, 153.15)\n",
      "Query Point ID: 65, Nearest Parking Point ID: 3048, Coordinates: (2.73, 148.1)\n",
      "Query Point ID: 66, Nearest Parking Point ID: 89611, Coordinates: (56.15, 135.83)\n",
      "Query Point ID: 67, Nearest Parking Point ID: 411, Coordinates: (16.15, 125.2)\n",
      "Query Point ID: 68, Nearest Parking Point ID: 778, Coordinates: (26.44, 99.07)\n",
      "Query Point ID: 69, Nearest Parking Point ID: 140487, Coordinates: (20.64, 125.0)\n",
      "Query Point ID: 70, Nearest Parking Point ID: 149817, Coordinates: (16.03, 148.38)\n",
      "Query Point ID: 71, Nearest Parking Point ID: 109260, Coordinates: (84.58, 89.74)\n",
      "Query Point ID: 72, Nearest Parking Point ID: 114778, Coordinates: (44.76, 126.64)\n",
      "Query Point ID: 73, Nearest Parking Point ID: 33120, Coordinates: (27.36, 135.28)\n",
      "Query Point ID: 74, Nearest Parking Point ID: 142340, Coordinates: (53.07, 135.65)\n",
      "Query Point ID: 75, Nearest Parking Point ID: 66753, Coordinates: (87.22, 157.14)\n",
      "Query Point ID: 76, Nearest Parking Point ID: 10117, Coordinates: (79.44, 120.3)\n",
      "Query Point ID: 77, Nearest Parking Point ID: 15337, Coordinates: (26.75, 95.08)\n",
      "Query Point ID: 78, Nearest Parking Point ID: 136556, Coordinates: (18.2, 102.62)\n",
      "Query Point ID: 79, Nearest Parking Point ID: 38707, Coordinates: (39.87, 145.38)\n",
      "Query Point ID: 80, Nearest Parking Point ID: 3806, Coordinates: (28.5, 160.06)\n",
      "Query Point ID: 81, Nearest Parking Point ID: 118546, Coordinates: (59.87, 109.27)\n",
      "Query Point ID: 82, Nearest Parking Point ID: 9172, Coordinates: (41.78, 138.17)\n",
      "Query Point ID: 83, Nearest Parking Point ID: 49462, Coordinates: (6.17, 118.3)\n",
      "Query Point ID: 84, Nearest Parking Point ID: 26753, Coordinates: (21.35, 142.13)\n",
      "Query Point ID: 85, Nearest Parking Point ID: 56032, Coordinates: (41.55, 110.55)\n",
      "Query Point ID: 86, Nearest Parking Point ID: 73974, Coordinates: (54.94, 127.63)\n",
      "Query Point ID: 87, Nearest Parking Point ID: 71943, Coordinates: (62.47, 117.25)\n",
      "Query Point ID: 88, Nearest Parking Point ID: 134902, Coordinates: (55.59, 125.93)\n",
      "Query Point ID: 89, Nearest Parking Point ID: 83379, Coordinates: (24.46, 153.74)\n",
      "Query Point ID: 90, Nearest Parking Point ID: 79449, Coordinates: (35.8, 136.42)\n",
      "Query Point ID: 91, Nearest Parking Point ID: 96781, Coordinates: (30.98, 105.11)\n",
      "Query Point ID: 92, Nearest Parking Point ID: 130153, Coordinates: (75.83, 136.72)\n",
      "Query Point ID: 93, Nearest Parking Point ID: 82644, Coordinates: (70.86, 103.87)\n",
      "Query Point ID: 94, Nearest Parking Point ID: 18962, Coordinates: (38.35, 81.83)\n",
      "Query Point ID: 95, Nearest Parking Point ID: 91180, Coordinates: (5.39, 83.64)\n",
      "Query Point ID: 96, Nearest Parking Point ID: 95593, Coordinates: (4.59, 158.55)\n",
      "Query Point ID: 97, Nearest Parking Point ID: 15083, Coordinates: (18.4, 89.19)\n",
      "Query Point ID: 98, Nearest Parking Point ID: 107695, Coordinates: (51.08, 146.08)\n",
      "Query Point ID: 99, Nearest Parking Point ID: 103430, Coordinates: (51.06, 108.64)\n",
      "Query Point ID: 100, Nearest Parking Point ID: 33273, Coordinates: (48.65, 91.59)\n",
      "Query Point ID: 101, Nearest Parking Point ID: 93813, Coordinates: (68.47, 135.12)\n",
      "Query Point ID: 102, Nearest Parking Point ID: 128791, Coordinates: (67.41, 134.64)\n",
      "Query Point ID: 103, Nearest Parking Point ID: 69305, Coordinates: (49.81, 152.72)\n",
      "Query Point ID: 104, Nearest Parking Point ID: 68747, Coordinates: (34.61, 97.82)\n",
      "Query Point ID: 105, Nearest Parking Point ID: 11165, Coordinates: (55.32, 113.7)\n",
      "Query Point ID: 106, Nearest Parking Point ID: 39364, Coordinates: (17.23, 142.03)\n",
      "Query Point ID: 107, Nearest Parking Point ID: 143722, Coordinates: (4.97, 93.74)\n",
      "Query Point ID: 108, Nearest Parking Point ID: 72544, Coordinates: (4.57, 106.74)\n",
      "Query Point ID: 109, Nearest Parking Point ID: 21945, Coordinates: (61.96, 80.41)\n",
      "Query Point ID: 110, Nearest Parking Point ID: 7000, Coordinates: (30.59, 126.67)\n",
      "Query Point ID: 111, Nearest Parking Point ID: 122316, Coordinates: (75.57, 114.12)\n",
      "Query Point ID: 112, Nearest Parking Point ID: 1145, Coordinates: (32.67, 149.98)\n",
      "Query Point ID: 113, Nearest Parking Point ID: 80660, Coordinates: (55.16, 156.49)\n",
      "Query Point ID: 114, Nearest Parking Point ID: 13093, Coordinates: (22.25, 93.62)\n",
      "Query Point ID: 115, Nearest Parking Point ID: 98303, Coordinates: (3.02, 133.37)\n",
      "Query Point ID: 116, Nearest Parking Point ID: 16387, Coordinates: (25.6, 113.76)\n",
      "Query Point ID: 117, Nearest Parking Point ID: 19621, Coordinates: (45.99, 117.83)\n",
      "Query Point ID: 118, Nearest Parking Point ID: 30007, Coordinates: (7.73, 151.28)\n",
      "Query Point ID: 119, Nearest Parking Point ID: 19578, Coordinates: (74.47, 123.5)\n",
      "Query Point ID: 120, Nearest Parking Point ID: 17215, Coordinates: (33.87, 84.83)\n",
      "Query Point ID: 121, Nearest Parking Point ID: 55812, Coordinates: (84.8, 92.7)\n",
      "Query Point ID: 122, Nearest Parking Point ID: 34291, Coordinates: (44.65, 157.67)\n",
      "Query Point ID: 123, Nearest Parking Point ID: 70846, Coordinates: (36.3, 98.63)\n",
      "Query Point ID: 124, Nearest Parking Point ID: 91090, Coordinates: (55.2, 137.38)\n",
      "Query Point ID: 125, Nearest Parking Point ID: 130767, Coordinates: (50.13, 151.68)\n",
      "Query Point ID: 126, Nearest Parking Point ID: 26306, Coordinates: (35.61, 137.04)\n",
      "Query Point ID: 127, Nearest Parking Point ID: 53552, Coordinates: (0.1, 96.33)\n",
      "Query Point ID: 128, Nearest Parking Point ID: 127385, Coordinates: (19.11, 87.75)\n",
      "Query Point ID: 129, Nearest Parking Point ID: 148587, Coordinates: (32.87, 93.76)\n",
      "Query Point ID: 130, Nearest Parking Point ID: 87446, Coordinates: (67.44, 124.18)\n",
      "Query Point ID: 131, Nearest Parking Point ID: 104634, Coordinates: (53.03, 97.29)\n",
      "Query Point ID: 132, Nearest Parking Point ID: 77746, Coordinates: (7.47, 105.83)\n",
      "Query Point ID: 133, Nearest Parking Point ID: 54360, Coordinates: (23.08, 117.65)\n",
      "Query Point ID: 134, Nearest Parking Point ID: 119836, Coordinates: (20.69, 97.49)\n",
      "Query Point ID: 135, Nearest Parking Point ID: 35796, Coordinates: (63.19, 148.02)\n",
      "Query Point ID: 136, Nearest Parking Point ID: 110918, Coordinates: (65.3, 88.04)\n",
      "Query Point ID: 137, Nearest Parking Point ID: 21738, Coordinates: (11.21, 87.39)\n",
      "Query Point ID: 138, Nearest Parking Point ID: 124597, Coordinates: (30.4, 85.01)\n",
      "Query Point ID: 139, Nearest Parking Point ID: 51813, Coordinates: (69.9, 112.03)\n",
      "Query Point ID: 140, Nearest Parking Point ID: 24384, Coordinates: (4.97, 149.9)\n",
      "Query Point ID: 141, Nearest Parking Point ID: 39009, Coordinates: (70.97, 137.09)\n",
      "Query Point ID: 142, Nearest Parking Point ID: 47055, Coordinates: (51.65, 94.64)\n",
      "Query Point ID: 143, Nearest Parking Point ID: 148670, Coordinates: (55.17, 128.75)\n",
      "Query Point ID: 144, Nearest Parking Point ID: 139254, Coordinates: (71.13, 106.73)\n",
      "Query Point ID: 145, Nearest Parking Point ID: 45577, Coordinates: (23.47, 142.23)\n",
      "Query Point ID: 146, Nearest Parking Point ID: 95264, Coordinates: (13.35, 142.82)\n",
      "Query Point ID: 147, Nearest Parking Point ID: 36199, Coordinates: (16.84, 131.82)\n",
      "Query Point ID: 148, Nearest Parking Point ID: 125729, Coordinates: (65.97, 122.76)\n",
      "Query Point ID: 149, Nearest Parking Point ID: 69841, Coordinates: (59.14, 119.99)\n",
      "Query Point ID: 150, Nearest Parking Point ID: 112980, Coordinates: (87.82, 105.4)\n",
      "Query Point ID: 151, Nearest Parking Point ID: 112509, Coordinates: (2.06, 156.95)\n",
      "Query Point ID: 152, Nearest Parking Point ID: 12084, Coordinates: (6.79, 86.0)\n",
      "Query Point ID: 153, Nearest Parking Point ID: 111624, Coordinates: (26.73, 155.93)\n",
      "Query Point ID: 154, Nearest Parking Point ID: 83608, Coordinates: (12.95, 127.85)\n",
      "Query Point ID: 155, Nearest Parking Point ID: 76849, Coordinates: (10.89, 122.87)\n",
      "Query Point ID: 156, Nearest Parking Point ID: 93335, Coordinates: (82.06, 134.42)\n",
      "Query Point ID: 157, Nearest Parking Point ID: 38678, Coordinates: (76.03, 119.75)\n",
      "Query Point ID: 158, Nearest Parking Point ID: 100758, Coordinates: (75.28, 116.22)\n",
      "Query Point ID: 159, Nearest Parking Point ID: 911, Coordinates: (25.99, 93.27)\n",
      "Query Point ID: 160, Nearest Parking Point ID: 96266, Coordinates: (79.09, 125.85)\n",
      "Query Point ID: 161, Nearest Parking Point ID: 132459, Coordinates: (78.96, 105.63)\n",
      "Query Point ID: 162, Nearest Parking Point ID: 128663, Coordinates: (30.75, 110.76)\n",
      "Query Point ID: 163, Nearest Parking Point ID: 57160, Coordinates: (79.1, 131.89)\n",
      "Query Point ID: 164, Nearest Parking Point ID: 70694, Coordinates: (80.08, 80.58)\n",
      "Query Point ID: 165, Nearest Parking Point ID: 28087, Coordinates: (56.32, 94.66)\n",
      "Query Point ID: 166, Nearest Parking Point ID: 81355, Coordinates: (4.7, 92.1)\n",
      "Query Point ID: 167, Nearest Parking Point ID: 88413, Coordinates: (16.42, 83.45)\n",
      "Query Point ID: 168, Nearest Parking Point ID: 143779, Coordinates: (59.78, 146.14)\n",
      "Query Point ID: 169, Nearest Parking Point ID: 14316, Coordinates: (4.19, 139.18)\n",
      "Query Point ID: 170, Nearest Parking Point ID: 128192, Coordinates: (65.21, 116.6)\n",
      "Query Point ID: 171, Nearest Parking Point ID: 70668, Coordinates: (87.14, 129.01)\n",
      "Query Point ID: 172, Nearest Parking Point ID: 36752, Coordinates: (18.65, 147.2)\n",
      "Query Point ID: 173, Nearest Parking Point ID: 1643, Coordinates: (32.55, 123.77)\n",
      "Query Point ID: 174, Nearest Parking Point ID: 18118, Coordinates: (88.06, 89.51)\n",
      "Query Point ID: 175, Nearest Parking Point ID: 97478, Coordinates: (27.54, 149.31)\n",
      "Query Point ID: 176, Nearest Parking Point ID: 22900, Coordinates: (58.54, 117.98)\n",
      "Query Point ID: 177, Nearest Parking Point ID: 47681, Coordinates: (80.73, 153.85)\n",
      "Query Point ID: 178, Nearest Parking Point ID: 58184, Coordinates: (49.88, 88.59)\n",
      "Query Point ID: 179, Nearest Parking Point ID: 13143, Coordinates: (27.19, 111.32)\n",
      "Query Point ID: 180, Nearest Parking Point ID: 118678, Coordinates: (81.93, 159.6)\n",
      "Query Point ID: 181, Nearest Parking Point ID: 53985, Coordinates: (45.43, 125.9)\n",
      "Query Point ID: 182, Nearest Parking Point ID: 121437, Coordinates: (2.86, 87.71)\n",
      "Query Point ID: 183, Nearest Parking Point ID: 147221, Coordinates: (17.37, 114.02)\n",
      "Query Point ID: 184, Nearest Parking Point ID: 83504, Coordinates: (31.79, 116.14)\n",
      "Query Point ID: 185, Nearest Parking Point ID: 132434, Coordinates: (30.78, 100.19)\n",
      "Query Point ID: 186, Nearest Parking Point ID: 139177, Coordinates: (58.56, 143.25)\n",
      "Query Point ID: 187, Nearest Parking Point ID: 120664, Coordinates: (35.72, 156.85)\n",
      "Query Point ID: 188, Nearest Parking Point ID: 140958, Coordinates: (88.08, 107.55)\n",
      "Query Point ID: 189, Nearest Parking Point ID: 33437, Coordinates: (36.81, 134.62)\n",
      "Query Point ID: 190, Nearest Parking Point ID: 37782, Coordinates: (21.45, 110.68)\n",
      "Query Point ID: 191, Nearest Parking Point ID: 4236, Coordinates: (33.82, 92.75)\n",
      "Query Point ID: 192, Nearest Parking Point ID: 95886, Coordinates: (31.03, 125.9)\n",
      "Query Point ID: 193, Nearest Parking Point ID: 121946, Coordinates: (34.38, 102.97)\n",
      "Query Point ID: 194, Nearest Parking Point ID: 78489, Coordinates: (40.8, 120.28)\n",
      "Query Point ID: 195, Nearest Parking Point ID: 127735, Coordinates: (66.89, 83.45)\n",
      "Query Point ID: 196, Nearest Parking Point ID: 113040, Coordinates: (28.15, 151.61)\n",
      "Query Point ID: 197, Nearest Parking Point ID: 15774, Coordinates: (29.58, 82.75)\n",
      "Query Point ID: 198, Nearest Parking Point ID: 42040, Coordinates: (10.01, 93.67)\n",
      "Query Point ID: 199, Nearest Parking Point ID: 50824, Coordinates: (16.51, 152.72)\n",
      "Query Point ID: 200, Nearest Parking Point ID: 128803, Coordinates: (42.12, 137.17)\n",
      "Time taken to answer queries using brute-force search: 14.206122 seconds\n"
     ]
    }
   ],
   "source": [
    "def euclidean_distance(point1, point2):\n",
    "    return math.sqrt((point1[0] - point2[0]) ** 2 + (point1[1] - point2[1]) ** 2)\n",
    "\n",
    "def brute_force_search(points, queries):\n",
    "    min_distance = float('inf')\n",
    "    nearest_point = None\n",
    "    for point in points:\n",
    "        distance = euclidean_distance((point[1], point[2]), queries)\n",
    "        if distance < min_distance:\n",
    "            min_distance = distance\n",
    "            nearest_point = point\n",
    "    return nearest_point\n",
    "\n",
    "# Execute queries using brute-force search and measure the time taken\n",
    "start_time = time.time()\n",
    "results = []\n",
    "for query in queries:\n",
    "    result = brute_force_search(points, (query[1], query[2]))\n",
    "    results.append(result)\n",
    "end_time = time.time()\n",
    "\n",
    "time_taken = end_time - start_time\n",
    "\n",
    "# Output the results\n",
    "for query, result in zip(queries, results):\n",
    "    print(f\"Query Point ID: {query[0]}, Nearest Parking Point ID: {result[0]}, Coordinates: ({result[1]}, {result[2]})\")\n",
    "\n",
    "print(f\"Time taken to answer queries using brute-force search: {time_taken:.6f} seconds\")"
   ]
  },
  {
   "cell_type": "code",
   "execution_count": null,
   "id": "14a6914e",
   "metadata": {},
   "outputs": [],
   "source": []
  }
 ],
 "metadata": {
  "kernelspec": {
   "display_name": "Python 3 (ipykernel)",
   "language": "python",
   "name": "python3"
  },
  "language_info": {
   "codemirror_mode": {
    "name": "ipython",
    "version": 3
   },
   "file_extension": ".py",
   "mimetype": "text/x-python",
   "name": "python",
   "nbconvert_exporter": "python",
   "pygments_lexer": "ipython3",
   "version": "3.11.7"
  }
 },
 "nbformat": 4,
 "nbformat_minor": 5
}
